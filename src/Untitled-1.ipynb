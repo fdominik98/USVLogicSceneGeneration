{
 "cells": [
  {
   "cell_type": "code",
   "execution_count": 1,
   "metadata": {},
   "outputs": [
    {
     "ename": "ValueError",
     "evalue": "operands could not be broadcast together with shapes (16,3) (3,3) (16,3) ",
     "output_type": "error",
     "traceback": [
      "\u001b[1;31m---------------------------------------------------------------------------\u001b[0m",
      "\u001b[1;31mValueError\u001b[0m                                Traceback (most recent call last)",
      "Cell \u001b[1;32mIn[1], line 15\u001b[0m\n\u001b[0;32m     10\u001b[0m axes_3d \u001b[38;5;241m=\u001b[39m ThreeDAxes(x_range\u001b[38;5;241m=\u001b[39m[\u001b[38;5;241m0\u001b[39m, MAX_COORD],\n\u001b[0;32m     11\u001b[0m                              y_range\u001b[38;5;241m=\u001b[39m[\u001b[38;5;241m0\u001b[39m, MAX_COORD],\n\u001b[0;32m     12\u001b[0m                              z_range\u001b[38;5;241m=\u001b[39m[\u001b[38;5;241m0\u001b[39m,\u001b[38;5;241m200\u001b[39m], axis_config\u001b[38;5;241m=\u001b[39m{\u001b[38;5;124m\"\u001b[39m\u001b[38;5;124mcolor\u001b[39m\u001b[38;5;124m\"\u001b[39m: BLACK})\n\u001b[0;32m     14\u001b[0m point \u001b[38;5;241m=\u001b[39m axes_3d\u001b[38;5;241m.\u001b[39mc2p(env\u001b[38;5;241m.\u001b[39mvessels[\u001b[38;5;241m0\u001b[39m]\u001b[38;5;241m.\u001b[39mp_3d())\n\u001b[1;32m---> 15\u001b[0m dot \u001b[38;5;241m=\u001b[39m \u001b[43mDot3D\u001b[49m\u001b[43m(\u001b[49m\u001b[43mpoint\u001b[49m\u001b[43m,\u001b[49m\u001b[43m \u001b[49m\u001b[43mcolor\u001b[49m\u001b[38;5;241;43m=\u001b[39;49m\u001b[43mRED\u001b[49m\u001b[43m)\u001b[49m\n\u001b[0;32m     17\u001b[0m \u001b[38;5;28mprint\u001b[39m()\n",
      "File \u001b[1;32mc:\\Users\\freyd\\Desktop\\USVLogicSceneGeneration\\env\\lib\\site-packages\\manim\\mobject\\three_d\\three_dimensions.py:462\u001b[0m, in \u001b[0;36mDot3D.__init__\u001b[1;34m(self, point, radius, color, resolution, **kwargs)\u001b[0m\n\u001b[0;32m    454\u001b[0m \u001b[38;5;28;01mdef\u001b[39;00m \u001b[38;5;21m__init__\u001b[39m(\n\u001b[0;32m    455\u001b[0m     \u001b[38;5;28mself\u001b[39m,\n\u001b[0;32m    456\u001b[0m     point: \u001b[38;5;28mlist\u001b[39m \u001b[38;5;241m|\u001b[39m np\u001b[38;5;241m.\u001b[39mndarray \u001b[38;5;241m=\u001b[39m ORIGIN,\n\u001b[1;32m   (...)\u001b[0m\n\u001b[0;32m    460\u001b[0m     \u001b[38;5;241m*\u001b[39m\u001b[38;5;241m*\u001b[39mkwargs,\n\u001b[0;32m    461\u001b[0m ) \u001b[38;5;241m-\u001b[39m\u001b[38;5;241m>\u001b[39m \u001b[38;5;28;01mNone\u001b[39;00m:\n\u001b[1;32m--> 462\u001b[0m     \u001b[38;5;28msuper\u001b[39m()\u001b[38;5;241m.\u001b[39m\u001b[38;5;21m__init__\u001b[39m(center\u001b[38;5;241m=\u001b[39mpoint, radius\u001b[38;5;241m=\u001b[39mradius, resolution\u001b[38;5;241m=\u001b[39mresolution, \u001b[38;5;241m*\u001b[39m\u001b[38;5;241m*\u001b[39mkwargs)\n\u001b[0;32m    463\u001b[0m     \u001b[38;5;28mself\u001b[39m\u001b[38;5;241m.\u001b[39mset_color(color)\n",
      "File \u001b[1;32mc:\\Users\\freyd\\Desktop\\USVLogicSceneGeneration\\env\\lib\\site-packages\\manim\\mobject\\three_d\\three_dimensions.py:407\u001b[0m, in \u001b[0;36mSphere.__init__\u001b[1;34m(self, center, radius, resolution, u_range, v_range, **kwargs)\u001b[0m\n\u001b[0;32m    397\u001b[0m \u001b[38;5;28mself\u001b[39m\u001b[38;5;241m.\u001b[39mradius \u001b[38;5;241m=\u001b[39m radius\n\u001b[0;32m    399\u001b[0m \u001b[38;5;28msuper\u001b[39m()\u001b[38;5;241m.\u001b[39m\u001b[38;5;21m__init__\u001b[39m(\n\u001b[0;32m    400\u001b[0m     \u001b[38;5;28mself\u001b[39m\u001b[38;5;241m.\u001b[39mfunc,\n\u001b[0;32m    401\u001b[0m     resolution\u001b[38;5;241m=\u001b[39mresolution,\n\u001b[1;32m   (...)\u001b[0m\n\u001b[0;32m    404\u001b[0m     \u001b[38;5;241m*\u001b[39m\u001b[38;5;241m*\u001b[39mkwargs,\n\u001b[0;32m    405\u001b[0m )\n\u001b[1;32m--> 407\u001b[0m \u001b[38;5;28;43mself\u001b[39;49m\u001b[38;5;241;43m.\u001b[39;49m\u001b[43mshift\u001b[49m\u001b[43m(\u001b[49m\u001b[43mcenter\u001b[49m\u001b[43m)\u001b[49m\n",
      "File \u001b[1;32mc:\\Users\\freyd\\Desktop\\USVLogicSceneGeneration\\env\\lib\\site-packages\\manim\\mobject\\mobject.py:1176\u001b[0m, in \u001b[0;36mMobject.shift\u001b[1;34m(self, *vectors)\u001b[0m\n\u001b[0;32m   1174\u001b[0m \u001b[38;5;28;01mfor\u001b[39;00m mob \u001b[38;5;129;01min\u001b[39;00m \u001b[38;5;28mself\u001b[39m\u001b[38;5;241m.\u001b[39mfamily_members_with_points():\n\u001b[0;32m   1175\u001b[0m     mob\u001b[38;5;241m.\u001b[39mpoints \u001b[38;5;241m=\u001b[39m mob\u001b[38;5;241m.\u001b[39mpoints\u001b[38;5;241m.\u001b[39mastype(\u001b[38;5;124m\"\u001b[39m\u001b[38;5;124mfloat\u001b[39m\u001b[38;5;124m\"\u001b[39m)\n\u001b[1;32m-> 1176\u001b[0m     mob\u001b[38;5;241m.\u001b[39mpoints \u001b[38;5;241m+\u001b[39m\u001b[38;5;241m=\u001b[39m total_vector\n\u001b[0;32m   1178\u001b[0m \u001b[38;5;28;01mreturn\u001b[39;00m \u001b[38;5;28mself\u001b[39m\n",
      "\u001b[1;31mValueError\u001b[0m: operands could not be broadcast together with shapes (16,3) (3,3) (16,3) "
     ]
    }
   ],
   "source": [
    "from manim import *\n",
    "from model.environment.usv_config import MAX_COORD\n",
    "from model.data_parser import EvalDataParser\n",
    "from model.environment.usv_environment import LoadedEnvironment\n",
    "\n",
    "data_parser = EvalDataParser()\n",
    "data = data_parser.load_data_models_from_files(['C:\\\\Users\\\\freyd\\\\Desktop\\\\USVLogicSceneGeneration\\\\assets\\\\gen_data\\\\test_3_vessel_scenarios_MSR\\\\MSR\\\\pymoo_NSGA2_algorithm_vessel\\\\3vessel_MSR_1_2024-10-21T10-33-12.924391.json'])\n",
    "env = LoadedEnvironment(eval_data=data[0])\n",
    "\n",
    "axes_3d = ThreeDAxes(x_range=[0, MAX_COORD],\n",
    "                             y_range=[0, MAX_COORD],\n",
    "                             z_range=[0,200], axis_config={\"color\": BLACK})\n",
    "\n",
    "point = axes_3d.c2p(env.vessels[0].p_3d())\n",
    "dot = Dot3D(point, color=RED)\n",
    "\n",
    "print()"
   ]
  }
 ],
 "metadata": {
  "kernelspec": {
   "display_name": "env",
   "language": "python",
   "name": "python3"
  },
  "language_info": {
   "codemirror_mode": {
    "name": "ipython",
    "version": 3
   },
   "file_extension": ".py",
   "mimetype": "text/x-python",
   "name": "python",
   "nbconvert_exporter": "python",
   "pygments_lexer": "ipython3",
   "version": "3.10.11"
  }
 },
 "nbformat": 4,
 "nbformat_minor": 2
}
